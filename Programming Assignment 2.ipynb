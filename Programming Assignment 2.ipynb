{
 "cells": [
  {
   "cell_type": "markdown",
   "id": "0eeeb92c-308f-4d8b-a35a-37c884200b7b",
   "metadata": {},
   "source": [
    "Name:Clarence Jasper S. Gaspar     Section: 2ECE-B"
   ]
  },
  {
   "cell_type": "markdown",
   "id": "7a1758f5-bec3-4a58-9ff5-5cb371ef4c2b",
   "metadata": {},
   "source": [
    "EXPERIMENT 2: NUMERICAL PYTHON (NUMPY)"
   ]
  },
  {
   "cell_type": "code",
   "execution_count": null,
   "id": "a97650d3-cb45-4830-9143-461b3a1ba6e4",
   "metadata": {},
   "outputs": [],
   "source": []
  },
  {
   "cell_type": "markdown",
   "id": "f947e931-c098-41de-808d-9f749bab0225",
   "metadata": {},
   "source": [
    "NORMALIZATION PROBLEM"
   ]
  },
  {
   "cell_type": "code",
   "execution_count": 5,
   "id": "c47dbda6-8261-484c-8e34-0f373cc289f5",
   "metadata": {},
   "outputs": [
    {
     "name": "stdout",
     "output_type": "stream",
     "text": [
      "Original X:\n",
      " [[0.49521457 0.17488938 0.5654688  0.7966015  0.10555646]\n",
      " [0.96477565 0.6197032  0.31476763 0.03008096 0.51776987]\n",
      " [0.63211572 0.60749321 0.36562949 0.78973766 0.58400375]\n",
      " [0.05536265 0.89424065 0.26206421 0.55698919 0.33085004]\n",
      " [0.59842662 0.98869875 0.54394588 0.82613829 0.72573524]]\n",
      "\n",
      "Mean of X: 0.5338503746884036\n",
      "Standard Deviation of X: 0.2681904035144254\n",
      "Normalized X:\n",
      " [[-0.14406111 -1.33845577  0.11789544  0.97971861 -1.59697704]\n",
      " [ 1.60678858  0.32011894 -0.81689254 -1.87840208 -0.05995929]\n",
      " [ 0.36640141  0.27459161 -0.62724425  0.95412543  0.1870066 ]\n",
      " [-1.78413441  1.34378513 -1.0134075   0.08627756 -0.75692619]\n",
      " [ 0.24078508  1.6959905   0.03764305  1.08985225  0.71548   ]]\n"
     ]
    }
   ],
   "source": [
    "import numpy as np #import Numerical Python (numpy) library to utilize mathematical functions with any nickname to represent it like \"np\"\n",
    "\n",
    "X = np.random.random((5,5)) #Create a random 5x5 array and store it on a variable like \"X\"\n",
    "print(\"Original X:\\n\", X) #Display the random 5x5 array using the print function\n",
    "\n",
    "X_mean = X.mean() #call in .mean() command to calculate for the mean of certain numbers or arrays        \n",
    "X_std = X.std() #call in .std() command to calculate for the standard deviation of certain numbers or arrays           \n",
    "X_normalized = (X - X_mean) / X_std #using the mean and std function on the previous line, create the equation for the normalization by-\n",
    "                                    #subtracting the data from mean and dividing with its standard deviation\n",
    "\n",
    "print(\"\\nMean of X:\", X_mean) #Display the computed mean value using print() function and the variable X_mean\n",
    "print(\"Standard Deviation of X:\", X_std) #Display the computed std value using print() function and the variable X_std\n",
    "print(\"Normalized X:\\n\", X_normalized) #Display the normalized value using print() function and the variable X_normalized\n",
    "\n",
    "np.save(\"X_normalized.npy\", X_normalized) #Save the normalized array to a .npy file to store it for future use\n",
    "#the .npy file is an external file used to store the normalized array, upon saving it, it creates a .npy file in the same directory as this python file"
   ]
  },
  {
   "cell_type": "code",
   "execution_count": null,
   "id": "a5f159c3-c272-4409-8fdd-5124a55ce957",
   "metadata": {},
   "outputs": [],
   "source": []
  },
  {
   "cell_type": "code",
   "execution_count": null,
   "id": "9f62582a-90ff-4b4b-9cf9-2610cc57fdb5",
   "metadata": {},
   "outputs": [],
   "source": []
  },
  {
   "cell_type": "markdown",
   "id": "e87d9b4f-9491-4393-86f6-b9ec899ec9bf",
   "metadata": {},
   "source": [
    "DIVISIBLE BY 3 PROBLEM"
   ]
  },
  {
   "cell_type": "code",
   "execution_count": 13,
   "id": "6b5e9f49-ad35-47f1-ac09-0918b433a170",
   "metadata": {},
   "outputs": [
    {
     "name": "stdout",
     "output_type": "stream",
     "text": [
      "10x10 Matrix of Squares:\n",
      " [[    1     4     9    16    25    36    49    64    81   100]\n",
      " [  121   144   169   196   225   256   289   324   361   400]\n",
      " [  441   484   529   576   625   676   729   784   841   900]\n",
      " [  961  1024  1089  1156  1225  1296  1369  1444  1521  1600]\n",
      " [ 1681  1764  1849  1936  2025  2116  2209  2304  2401  2500]\n",
      " [ 2601  2704  2809  2916  3025  3136  3249  3364  3481  3600]\n",
      " [ 3721  3844  3969  4096  4225  4356  4489  4624  4761  4900]\n",
      " [ 5041  5184  5329  5476  5625  5776  5929  6084  6241  6400]\n",
      " [ 6561  6724  6889  7056  7225  7396  7569  7744  7921  8100]\n",
      " [ 8281  8464  8649  8836  9025  9216  9409  9604  9801 10000]]\n",
      "\n",
      "Numbers divisible by 3:\n",
      " [   9   36   81  144  225  324  441  576  729  900 1089 1296 1521 1764\n",
      " 2025 2304 2601 2916 3249 3600 3969 4356 4761 5184 5625 6084 6561 7056\n",
      " 7569 8100 8649 9216 9801]\n"
     ]
    }
   ],
   "source": [
    "import numpy as np  # Import numpy library for mathematical functions\n",
    "\n",
    "squares = np.arange(1, 101) ** 2   #Create an array of squares from 1 to 100 (1^2 - 100^2) \n",
    "squares_matrix = squares.reshape(10, 10) # Organize the array by using .reshape function to turn it into a 10x10 matrix\n",
    "\n",
    "div_by_3 = squares_matrix[squares_matrix % 3 == 0]  #Select the elements in the array that are divisible by 3 by using a modulo that shoould have an - \n",
    "                                                    #answer of zero\n",
    "\n",
    "np.save(\"div_by_3.npy\", div_by_3) # Save the result as .npy using the filename div_by_3.npy \n",
    "\n",
    "print(\"10x10 Matrix of Squares:\\n\", squares_matrix) #Print or display the original value of the 10x10 matrix\n",
    "print(\"\\nNumbers divisible by 3:\\n\", div_by_3) # Print the numbers that are divisible by 3 from the original 10x10 matrix\n"
   ]
  },
  {
   "cell_type": "code",
   "execution_count": null,
   "id": "fc486479-84e4-4aba-ac56-2ddb64796c44",
   "metadata": {},
   "outputs": [],
   "source": []
  }
 ],
 "metadata": {
  "kernelspec": {
   "display_name": "Python [conda env:base] *",
   "language": "python",
   "name": "conda-base-py"
  },
  "language_info": {
   "codemirror_mode": {
    "name": "ipython",
    "version": 3
   },
   "file_extension": ".py",
   "mimetype": "text/x-python",
   "name": "python",
   "nbconvert_exporter": "python",
   "pygments_lexer": "ipython3",
   "version": "3.13.5"
  }
 },
 "nbformat": 4,
 "nbformat_minor": 5
}
